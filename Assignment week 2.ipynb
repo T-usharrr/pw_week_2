{
 "cells": [
  {
   "cell_type": "markdown",
   "id": "9354d63b-d7ec-4919-ae45-085b74dc8895",
   "metadata": {},
   "source": [
    "# Assignment "
   ]
  },
  {
   "cell_type": "code",
   "execution_count": null,
   "id": "262cefa2-2b06-411e-8291-05f381b91565",
   "metadata": {},
   "outputs": [],
   "source": []
  },
  {
   "cell_type": "code",
   "execution_count": 1,
   "id": "7b30c499-12b9-4704-a0e5-d638d29a61cb",
   "metadata": {},
   "outputs": [
    {
     "name": "stdout",
     "output_type": "stream",
     "text": [
      "uoy era woh olleH\n",
      "uoy era woh olleH"
     ]
    }
   ],
   "source": [
    "# 1. Write a code to reverse a string?\n",
    "\n",
    "s = \"Hello how are you\"\n",
    "print(s[::-1])\n",
    "\n",
    "# orr\n",
    "\n",
    "for i in range(len(s)-1, -1, -1):\n",
    "    print(s[i], end=\"\")"
   ]
  },
  {
   "cell_type": "code",
   "execution_count": null,
   "id": "9aa1778b-1664-405e-acf2-ceda8007513f",
   "metadata": {},
   "outputs": [],
   "source": []
  },
  {
   "cell_type": "code",
   "execution_count": 2,
   "id": "1813a22d-de7e-42a5-82f7-1a8d446597b3",
   "metadata": {},
   "outputs": [
    {
     "name": "stdout",
     "output_type": "stream",
     "text": [
      "7\n"
     ]
    }
   ],
   "source": [
    "# 2. Write a code to count the number of vowels in a string?\n",
    "\n",
    "s = \"Hello how are you\"\n",
    "c = 0\n",
    "\n",
    "for i in s:\n",
    "    if i in \"AEIOUaeiou\":\n",
    "        c += 1\n",
    "print(c)"
   ]
  },
  {
   "cell_type": "code",
   "execution_count": null,
   "id": "efb95b7e-b7f4-4ae9-a22e-d46324c5774e",
   "metadata": {},
   "outputs": [],
   "source": []
  },
  {
   "cell_type": "code",
   "execution_count": 3,
   "id": "ba7dbc68-1f60-41d2-b636-160211fd72c1",
   "metadata": {},
   "outputs": [
    {
     "name": "stdout",
     "output_type": "stream",
     "text": [
      "This string is a pallendrome\n"
     ]
    }
   ],
   "source": [
    "# 3. Write a code to check if a given string is a palindrome or not?\n",
    "\n",
    "s = \"Naman\"\n",
    "s = s.lower()\n",
    "\n",
    "s1 = s[::-1]\n",
    "\n",
    "if s1 == s:\n",
    "    print(\"This string is a pallendrome\")\n",
    "else:\n",
    "    print(\"This string is not a pallendrome\")\n",
    "    \n",
    "    "
   ]
  },
  {
   "cell_type": "code",
   "execution_count": null,
   "id": "e7e28109-f90d-4b4e-ad97-9978ac899ba5",
   "metadata": {},
   "outputs": [],
   "source": []
  },
  {
   "cell_type": "code",
   "execution_count": 4,
   "id": "95c2241a-7d50-445a-a3b2-986208356268",
   "metadata": {},
   "outputs": [
    {
     "name": "stdout",
     "output_type": "stream",
     "text": [
      "This string is an anagram\n"
     ]
    }
   ],
   "source": [
    "# 4. Write a code to check if two given strings are anagrams of each other?\n",
    "\n",
    "s1 = \"listen\"\n",
    "s2 = \"silent\"\n",
    "\n",
    "if sorted(s1.lower()) == sorted(s2.lower()):    # sort them to get in same order if anagram then converted to lower to both to didn't get problem with capital and small.\n",
    "    print(\"This string is an anagram\")\n",
    "else:\n",
    "    print(\"This string is not an anagram\")"
   ]
  },
  {
   "cell_type": "code",
   "execution_count": null,
   "id": "ca81983b-0b44-4229-9d4f-d0647321a45d",
   "metadata": {},
   "outputs": [],
   "source": []
  },
  {
   "cell_type": "code",
   "execution_count": 5,
   "id": "68a957d9-df45-4e33-b150-6014cb04bae3",
   "metadata": {},
   "outputs": [
    {
     "name": "stdout",
     "output_type": "stream",
     "text": [
      "substring is present in these indexes [0, 45]\n"
     ]
    }
   ],
   "source": [
    "# 5. Write a code to find all occurrences of a given substring within another string?\n",
    "\n",
    "s = \"Hello my name is Karan! and i am from Delhi, Hello everyone.\"\n",
    "sub_string = \"Hello\"\n",
    "\n",
    "index_list = []\n",
    "index = 0\n",
    "while True:\n",
    "    index = s.lower().find(sub_string.lower(), index)         # argument index is use to change the range of the search.\n",
    "    if index == -1:                        # find is use to search value in string if not present returns -1.\n",
    "        break\n",
    "    index_list.append(index)\n",
    "    index += len(sub_string)\n",
    "if len(index_list) == 0:\n",
    "    print(\"Substring not present in the string\")\n",
    "else:\n",
    "    print(f\"substring is present in these indexes {index_list}\")"
   ]
  },
  {
   "cell_type": "code",
   "execution_count": null,
   "id": "f6c52033-ac7f-43f8-b182-6a2cbd272332",
   "metadata": {},
   "outputs": [],
   "source": []
  },
  {
   "cell_type": "code",
   "execution_count": 6,
   "id": "f429b5e2-7c88-49f7-bbb9-dac4bb2920de",
   "metadata": {},
   "outputs": [
    {
     "name": "stdout",
     "output_type": "stream",
     "text": [
      "a2b1c5a3z1\n"
     ]
    }
   ],
   "source": [
    "# 6. Write a code to perform basic string compression using the counts of repeated characters?\n",
    "\n",
    "string = \"aabcccccaaaz\"\n",
    "c = 1\n",
    "s1 = \"\"\n",
    "\n",
    "for i in range(0,len(string)-1):\n",
    "    if string[i] == string[i+1] :\n",
    "        c+=1\n",
    "    else:\n",
    "        s1 += string[i] + str(c)\n",
    "        c = 1\n",
    "s1 += string[-1] + str(c)          # last value have to add after the loop else the loop goes out of range\n",
    "print(s1)"
   ]
  },
  {
   "cell_type": "code",
   "execution_count": null,
   "id": "4ff77f07-f1d8-4b1b-98db-008658fddd94",
   "metadata": {},
   "outputs": [],
   "source": []
  },
  {
   "cell_type": "code",
   "execution_count": 7,
   "id": "fbc8bfc3-2d42-4139-96ed-c32b9d3fa317",
   "metadata": {},
   "outputs": [
    {
     "name": "stdout",
     "output_type": "stream",
     "text": [
      "This string has all the unique values in it.\n"
     ]
    }
   ],
   "source": [
    "# 7. Write a code to determine if a string has all unique characters?\n",
    "\n",
    "string = \"abcde\"\n",
    "\n",
    "string_set = {i for i in string}\n",
    "\n",
    "if len(string_set) == len(string):               # the sting and set length should be same if the all have unique values in the string,\n",
    "    print(\"This string has all the unique values in it.\")\n",
    "else:\n",
    "    print(\"This string have some duplicate values in it.\")"
   ]
  },
  {
   "cell_type": "code",
   "execution_count": null,
   "id": "875ccef8-c53c-4df2-a893-1f7eb47e0553",
   "metadata": {},
   "outputs": [],
   "source": []
  },
  {
   "cell_type": "code",
   "execution_count": 8,
   "id": "8b1f5a22-976d-414b-a370-37b89e40545f",
   "metadata": {},
   "outputs": [
    {
     "name": "stdout",
     "output_type": "stream",
     "text": [
      "ABCDE\n",
      "abcde\n"
     ]
    }
   ],
   "source": [
    "# 8. Write a code to convert a given string to uppercase or lowercase?\n",
    "\n",
    "string = \"aBcdE\"\n",
    "\n",
    "print(string.upper())\n",
    "print(string.lower())"
   ]
  },
  {
   "cell_type": "code",
   "execution_count": null,
   "id": "65c8d35c-5f69-414c-b5b8-b12f46fa279c",
   "metadata": {},
   "outputs": [],
   "source": []
  },
  {
   "cell_type": "code",
   "execution_count": 9,
   "id": "8cd33db1-3564-41ff-aca4-4599a2140681",
   "metadata": {},
   "outputs": [
    {
     "name": "stdout",
     "output_type": "stream",
     "text": [
      "5\n"
     ]
    }
   ],
   "source": [
    "# 9. Write a code to count the number of words in a string?\n",
    "\n",
    "string = \"Hello how are you, great!!!\"\n",
    "\n",
    "string_list = string.split(\" \")      # # split() for converting to list with \" \" as spliting word.\n",
    "print(len(string_list))"
   ]
  },
  {
   "cell_type": "code",
   "execution_count": null,
   "id": "0d6d87a9-221d-4677-a026-1dbfa4566cd1",
   "metadata": {},
   "outputs": [],
   "source": []
  },
  {
   "cell_type": "code",
   "execution_count": 10,
   "id": "05f17788-2268-495c-9a85-6b116aff4b31",
   "metadata": {},
   "outputs": [
    {
     "data": {
      "text/plain": [
       "'hello my name is karan'"
      ]
     },
     "execution_count": 10,
     "metadata": {},
     "output_type": "execute_result"
    }
   ],
   "source": [
    "# 10. Write a code to concatenate two strings without using the + operator?\n",
    "\n",
    "s1 = \"hello my name is\"\n",
    "s2 = \"karan\"\n",
    "\n",
    "list_s1 = s1.split(\" \")         # split() for converting to list with \" \" as spliting word.\n",
    "list_s2 = s2.split(\" \")\n",
    "list_s1.extend(list_s2)         # extend() for combining the 2 strings\n",
    "\" \".join(list_s1).strip()          # join() to convert back to string"
   ]
  },
  {
   "cell_type": "code",
   "execution_count": null,
   "id": "e8aca188-ed4c-4a06-a314-7b789b5285e4",
   "metadata": {},
   "outputs": [],
   "source": []
  },
  {
   "cell_type": "code",
   "execution_count": 11,
   "id": "9a68e6b1-a1bf-40d6-8ac4-674e40bd113f",
   "metadata": {},
   "outputs": [
    {
     "data": {
      "text/plain": [
       "[1, 3, 4, 5, 6, 7, 1, 3, 4, 8, 9, 7, 6, 4, 5, 10]"
      ]
     },
     "execution_count": 11,
     "metadata": {},
     "output_type": "execute_result"
    }
   ],
   "source": [
    "# 11. Write a code to remove all occurrences of a specific element from a list?\n",
    "\n",
    "l = [1,2,3,4,5,6,7,1,2,3,4,8,9,7,6,2,4,5,10]\n",
    "value_delete = 2\n",
    "\n",
    "value_count = l.count(value_delete)\n",
    "for i in range(0,value_count):      # we did'nt use loop to iterate list because we are removing which resize the list and throw an indexing error.\n",
    "    l.remove(value_delete)\n",
    "l"
   ]
  },
  {
   "cell_type": "code",
   "execution_count": null,
   "id": "8c06223d-191a-466b-a4fc-9a617b008172",
   "metadata": {},
   "outputs": [],
   "source": []
  },
  {
   "cell_type": "code",
   "execution_count": 12,
   "id": "7dcb6e85-4318-4a61-b8d6-cc9d9d6552ff",
   "metadata": {},
   "outputs": [
    {
     "data": {
      "text/plain": [
       "8"
      ]
     },
     "execution_count": 12,
     "metadata": {},
     "output_type": "execute_result"
    }
   ],
   "source": [
    "# 12. Implement a code to find the second largest number in a given list of integers?\n",
    "\n",
    "l = [1,2,3,4,8,9,5,4,8,3]\n",
    "l.sort()\n",
    "l[-2]"
   ]
  },
  {
   "cell_type": "code",
   "execution_count": null,
   "id": "60a74c62-2806-41da-9508-c22fdf6ab863",
   "metadata": {},
   "outputs": [],
   "source": []
  },
  {
   "cell_type": "code",
   "execution_count": 13,
   "id": "82101d07-75cf-4ed7-b1d8-969ad847f5b1",
   "metadata": {},
   "outputs": [
    {
     "data": {
      "text/plain": [
       "{1: 2, 2: 3, 3: 3, 4: 4, 5: 2, 6: 3, 7: 2, 8: 2, 9: 2}"
      ]
     },
     "execution_count": 13,
     "metadata": {},
     "output_type": "execute_result"
    }
   ],
   "source": [
    "# 13. Create a code to count the occurrences of each element in a list and return a dictionary with elements as keys and their counts as values?\n",
    "\n",
    "l = [1,2,3,4,5,1,2,3,4,5,6,7,8,9,6,7,3,4,2,8,9,4,6]\n",
    "\n",
    "unique_list = list(set(l))\n",
    "d = {}\n",
    "for i in range(len(unique_list)):\n",
    "    c = 0\n",
    "    for j in range(len(l)):\n",
    "        if unique_list[i] == l[j]:\n",
    "            c += 1\n",
    "    d[unique_list[i]] = c\n",
    "d"
   ]
  },
  {
   "cell_type": "code",
   "execution_count": null,
   "id": "5d851a9a-53d5-4af8-8830-89977b11fdf5",
   "metadata": {},
   "outputs": [],
   "source": []
  },
  {
   "cell_type": "code",
   "execution_count": 14,
   "id": "72a43c4d-dcff-4926-90ba-546b0b18b99d",
   "metadata": {},
   "outputs": [
    {
     "data": {
      "text/plain": [
       "[2, 5, 4, 8, 7, 6, 5, 4, 3, 2, 1]"
      ]
     },
     "execution_count": 14,
     "metadata": {},
     "output_type": "execute_result"
    }
   ],
   "source": [
    "# 14. Write a code to reverse a list in-place without using any built-in reverse functions?\n",
    "\n",
    "l = [1,2,3,4,5,6,7,8,4,5,2]\n",
    "\n",
    "left = 0\n",
    "right = len(l)-1\n",
    "\n",
    "while left <= right:\n",
    "    l[left], l[right] = l[right], l[left]             # [->,->,->,<-,<-,<-]\n",
    "    left += 1\n",
    "    right -=1\n",
    "l"
   ]
  },
  {
   "cell_type": "code",
   "execution_count": null,
   "id": "8b0e1638-1db2-4299-af34-88b3576a33b3",
   "metadata": {},
   "outputs": [],
   "source": []
  },
  {
   "cell_type": "code",
   "execution_count": 15,
   "id": "7820817d-f81c-47b2-af50-454fc71346ff",
   "metadata": {},
   "outputs": [
    {
     "data": {
      "text/plain": [
       "[1, 8, 4, 5, 6, 2, 0, 7, 3]"
      ]
     },
     "execution_count": 15,
     "metadata": {},
     "output_type": "execute_result"
    }
   ],
   "source": [
    "# 15. Implement a code to find and remove duplicates from a list while preserving the original order of elements?\n",
    "\n",
    "l = [1,8,4,5,6,2,8,0,1,5,7,8,3,6]\n",
    "l1 = []\n",
    "\n",
    "for i in range(len(l)):\n",
    "    if l[i] not in l1:         # which element not present in new list can't be append in it.\n",
    "        l1.append(l[i])\n",
    "l1"
   ]
  },
  {
   "cell_type": "code",
   "execution_count": null,
   "id": "2def3a11-d9a3-4685-89a4-0d5f33fb3bc6",
   "metadata": {},
   "outputs": [],
   "source": []
  },
  {
   "cell_type": "code",
   "execution_count": 16,
   "id": "f0276a60-1b57-412c-887c-d746b6359813",
   "metadata": {},
   "outputs": [
    {
     "name": "stdout",
     "output_type": "stream",
     "text": [
      "This list is in Decending Order\n"
     ]
    }
   ],
   "source": [
    "# 16. Create a code to check if a given list is sorted (either in ascending or descending order) or not?\n",
    "import numpy as np\n",
    "\n",
    "l = [4,3,2,1]\n",
    "asc = list(np.copy(l))                # we have to use \"copy()\" because sort directly work on the list which can't be assgn to other\n",
    "asc.sort()\n",
    "\n",
    "desc = list(np.copy(l))\n",
    "desc.sort(reverse = True)\n",
    "\n",
    "if l == asc:\n",
    "    print(\"This list is in Ascending Order\")\n",
    "elif l == desc:\n",
    "    print(\"This list is in Decending Order\")\n",
    "else:\n",
    "    print(\"This list didn't belong to the Ascending or Decending Order\")"
   ]
  },
  {
   "cell_type": "code",
   "execution_count": null,
   "id": "1683ec1f-a104-477c-85bf-f61d3558f17c",
   "metadata": {},
   "outputs": [],
   "source": []
  },
  {
   "cell_type": "code",
   "execution_count": 17,
   "id": "adb60408-a705-446d-8c21-916ab04e0f01",
   "metadata": {},
   "outputs": [
    {
     "data": {
      "text/plain": [
       "[1, 1, 2, 2, 2, 2, 3, 4, 5, 5, 5, 6, 8]"
      ]
     },
     "execution_count": 17,
     "metadata": {},
     "output_type": "execute_result"
    }
   ],
   "source": [
    "# 17. Write a code to merge two sorted lists into a single sorted list?\n",
    "list1 = [1,2,3,5,6,2,5]\n",
    "list2 = [4,5,2,8,1,2]\n",
    "\n",
    "list1.sort()\n",
    "list2.sort()\n",
    "\n",
    "list1.extend(list2)\n",
    "list1.sort()\n",
    "list1"
   ]
  },
  {
   "cell_type": "code",
   "execution_count": null,
   "id": "cba1e830-4e13-4547-a501-bd224a826fba",
   "metadata": {},
   "outputs": [],
   "source": []
  },
  {
   "cell_type": "code",
   "execution_count": 18,
   "id": "ac8b89ea-4223-4487-afa9-3a0c98a9ee96",
   "metadata": {},
   "outputs": [
    {
     "name": "stdout",
     "output_type": "stream",
     "text": [
      "[2, 4, 6, 7, 8]\n"
     ]
    }
   ],
   "source": [
    "# 18. Implement a code to find the intersection of two given lists?\n",
    "\n",
    "l1 = [1,2,3,7,8,9,4,3,6]\n",
    "l2 = [2,4,8,7,10,5,6,23,45,6]\n",
    "l1 = set(l1)\n",
    "l2 = set(l2)\n",
    "\n",
    "print(list(l1 & l2))"
   ]
  },
  {
   "cell_type": "code",
   "execution_count": null,
   "id": "0a361045-6bba-4993-b7ea-cfa0832232ac",
   "metadata": {},
   "outputs": [],
   "source": []
  },
  {
   "cell_type": "code",
   "execution_count": 19,
   "id": "a7e7ad3d-08e5-4786-8301-ace30d471752",
   "metadata": {},
   "outputs": [
    {
     "name": "stdout",
     "output_type": "stream",
     "text": [
      "[1, 2, 3, 4, 5, 6, 7, 8, 9, 10, 45, 23]\n"
     ]
    }
   ],
   "source": [
    "# 19. Create a code to find the union of two lists without duplicates?\n",
    "\n",
    "l1 = [1,2,3,7,8,9,4,3,6]\n",
    "l2 = [2,4,8,7,10,5,6,23,45,6]\n",
    "l1 = set(l1)\n",
    "l2 = set(l2)\n",
    "\n",
    "print(list(l1 | l2))"
   ]
  },
  {
   "cell_type": "code",
   "execution_count": null,
   "id": "a68b6c80-c4c9-4a69-9977-228dd4785fb0",
   "metadata": {},
   "outputs": [],
   "source": []
  },
  {
   "cell_type": "code",
   "execution_count": 20,
   "id": "2707abed-841d-40b5-9aff-aaed14fcf24e",
   "metadata": {},
   "outputs": [
    {
     "data": {
      "text/plain": [
       "[3, 7, 2, 1, 6, 4, 5]"
      ]
     },
     "execution_count": 20,
     "metadata": {},
     "output_type": "execute_result"
    }
   ],
   "source": [
    "# 20. Write a code to shuffle a given list randomly without using any built-in shuffle functions?\n",
    "\n",
    "import random as r\n",
    "\n",
    "l = [1,2,3,4,5,6,7]\n",
    "for i in range(len(l)):\n",
    "    random_index = r.randint(0,len(l)-1)         # randint() is use to have any value randomly within the range and i use it for index for random accessing.\n",
    "    l[i], l[random_index] = l[random_index], l[i]\n",
    "l"
   ]
  },
  {
   "cell_type": "code",
   "execution_count": null,
   "id": "97f34afa-a0a2-4d77-bc54-8cbcb6d6c0e4",
   "metadata": {},
   "outputs": [],
   "source": []
  },
  {
   "cell_type": "code",
   "execution_count": 21,
   "id": "d24f1c48-9172-41e0-bb29-6721473c3b28",
   "metadata": {},
   "outputs": [
    {
     "data": {
      "text/plain": [
       "(9, 2, 5, 7)"
      ]
     },
     "execution_count": 21,
     "metadata": {},
     "output_type": "execute_result"
    }
   ],
   "source": [
    "# 21. Write a code that takes two tuples as input and returns a new tuple containing elements that are common to both input tuples?\n",
    "\n",
    "t1 = (1,2,3,4,7,8,9,5)\n",
    "t2 = (9,7,10,5,11,14,5,2)\n",
    "\n",
    "t1 = set(t1)\n",
    "t2 = set(t2)\n",
    "t3 = tuple(t1 & t2)\n",
    "t3"
   ]
  },
  {
   "cell_type": "code",
   "execution_count": null,
   "id": "d1cf3d2a-7f3f-49e7-a6f0-c908fedd3665",
   "metadata": {},
   "outputs": [],
   "source": []
  },
  {
   "cell_type": "code",
   "execution_count": 22,
   "id": "4c2168f8-1b7e-488b-8934-4112aa1e67ce",
   "metadata": {},
   "outputs": [
    {
     "name": "stdin",
     "output_type": "stream",
     "text": [
      "Enter the set1 values seprated by comas 1,2,3,4,5,6,7\n",
      "Enter the set2 values seprated by comas 4,5,6,7,8,9\n"
     ]
    },
    {
     "name": "stdout",
     "output_type": "stream",
     "text": [
      "{'6', '4', '7', '5'}\n"
     ]
    }
   ],
   "source": [
    "# 22. Create a code that prompts the user to enter two sets of integers separated by commas. Then, print the intersection of these two sets?\n",
    "\n",
    "set1 = input(\"Enter the set1 values seprated by comas\")\n",
    "set2 = input(\"Enter the set2 values seprated by comas\")\n",
    "\n",
    "set1 = set(set1.split(\",\"))\n",
    "set2 = set(set2.split(\",\"))\n",
    "print(set1 & set2)"
   ]
  },
  {
   "cell_type": "code",
   "execution_count": null,
   "id": "40d6e922-6e6a-4dcd-9ef0-41bbde718ce7",
   "metadata": {},
   "outputs": [],
   "source": []
  },
  {
   "cell_type": "code",
   "execution_count": 23,
   "id": "0857112e-8fc4-4a79-8de1-d15701f0b997",
   "metadata": {},
   "outputs": [
    {
     "data": {
      "text/plain": [
       "(1, 5, 7)"
      ]
     },
     "execution_count": 23,
     "metadata": {},
     "output_type": "execute_result"
    }
   ],
   "source": [
    "# 23. Write a code to concatenate two tuples. The function should take two tuples as input and return a new tuple containing elements from both input tuples?\n",
    "\n",
    "def same_element_tuple(t1, t2):\n",
    "    \"\"\"The function is use to take 2 tuples and provide the tuple with same \n",
    "    elements in both the tuples.\n",
    "    \n",
    "    Arguments:\n",
    "        t1 : For first tuple\n",
    "        t2 : For second tuple\"\"\"\n",
    "    \n",
    "    l = []\n",
    "    for i in range(len(t1)):\n",
    "        for j in range(len(t2)):            # use 2 loop to find the value from one list to second again and again\n",
    "            if t1[i] == t2[j]:\n",
    "                if t1[i] not in l:          # this is use to get the element present in the tuple to list and the element did not repeat itself\n",
    "                    l.append(t1[i])\n",
    "    return tuple(l)                   # convering to tuple before returning\n",
    "\n",
    "t1 = (1,2,3,4,5,6,7)\n",
    "t2 = (5,5,7,0,9,7,1)\n",
    "same_element_tuple(t1, t2)"
   ]
  },
  {
   "cell_type": "code",
   "execution_count": null,
   "id": "a4caec26-1f9d-4c88-ab25-35796ed9d4b4",
   "metadata": {},
   "outputs": [],
   "source": []
  },
  {
   "cell_type": "code",
   "execution_count": 24,
   "id": "03f15c55-7199-4e69-a9ab-b292b120b6d0",
   "metadata": {},
   "outputs": [
    {
     "name": "stdin",
     "output_type": "stream",
     "text": [
      "Enter the set1 values seprated by comas a,b,c,d,e,f\n",
      "Enter the set2 values seprated by comas y,z,q,p,b,a,c\n"
     ]
    },
    {
     "name": "stdout",
     "output_type": "stream",
     "text": [
      "{'e', 'd', 'f'}\n"
     ]
    }
   ],
   "source": [
    "# 24. Develop a code that prompts the user to input two sets of strings. Then, print the elements that are present in the first set but not in the second set?\n",
    "\n",
    "set1 = input(\"Enter the set1 values seprated by comas\")\n",
    "set2 = input(\"Enter the set2 values seprated by comas\")\n",
    "\n",
    "set1 = set(set1.split(\",\"))\n",
    "set2 = set(set2.split(\",\"))\n",
    "\n",
    "print(set1 - set2)"
   ]
  },
  {
   "cell_type": "code",
   "execution_count": null,
   "id": "88ba125a-6bb5-404f-8931-b7b9b3f47725",
   "metadata": {},
   "outputs": [],
   "source": []
  },
  {
   "cell_type": "code",
   "execution_count": 25,
   "id": "7acd6920-d2ee-4c5c-bc2b-d94b86529ccc",
   "metadata": {},
   "outputs": [
    {
     "name": "stdin",
     "output_type": "stream",
     "text": [
      "Enter the values seprated by comas 1,2,3,4,5,6,7,8,9\n",
      "Enter the Staring value: 3\n",
      "Enter the Ending value: 7\n"
     ]
    },
    {
     "name": "stdout",
     "output_type": "stream",
     "text": [
      "('4', '5', '6', '7')\n"
     ]
    }
   ],
   "source": [
    "# 25. Create a code that takes a tuple and two integers as input. The function should return a new tuple containing elements from the original tuple within the specified range of indices?\n",
    "\n",
    "def sliced_tuple(data, start, end):\n",
    "    \"\"\"Slices a tuple within specified indexes in positive only.\n",
    "\n",
    "    Args:\n",
    "        data: The original tuple.\n",
    "        start: Starting index of the slice.\n",
    "        end: Ending index of the slice (exclusive).\n",
    "\n",
    "    Returns:\n",
    "        The sliced tuple if indices are valid, otherwise an error message.\n",
    "  \"\"\"\n",
    "\n",
    "    if start >= end:        # because we didn't have steps for negative slicing\n",
    "        return \"Negative Slicing can't be possible here\"\n",
    "    elif 0 <= start < len(data) and 0 <= end <= len(data):    # from this condition it can slice only in positive else go to error statement because we take only starting and ending but not gaps so negative indexing can't happen\n",
    "        return data[start:end]\n",
    "    else:\n",
    "        return \"Slicing can't happen\"\n",
    "\n",
    "n = input(\"Enter the values seprated by comas\")\n",
    "tuple_data = tuple(n.split(\",\"))\n",
    "starting = int(input(\"Enter the Staring value:\"))\n",
    "ending = int(input(\"Enter the Ending value:\"))\n",
    "result = sliced_tuple(tuple_data, starting, ending)\n",
    "print(result)"
   ]
  },
  {
   "cell_type": "code",
   "execution_count": null,
   "id": "e880257d-ec0a-4d95-a808-6185f8e23810",
   "metadata": {},
   "outputs": [],
   "source": []
  },
  {
   "cell_type": "code",
   "execution_count": 26,
   "id": "37ad039e-fd4c-43c2-89d0-2fd4c599e9d4",
   "metadata": {},
   "outputs": [
    {
     "name": "stdin",
     "output_type": "stream",
     "text": [
      "Enter the set1 values seprated by comas 1,2,3,4,5,6,7\n",
      "Enter the set2 values seprated by comas 5,6,7,8,9,0\n"
     ]
    },
    {
     "name": "stdout",
     "output_type": "stream",
     "text": [
      "{'1', '8', '3', '0', '5', '4', '2', '7', '9', '6'}\n"
     ]
    }
   ],
   "source": [
    "# 26. Write a code that prompts the user to input two sets of characters. Then, print the union of these two sets?\n",
    "\n",
    "set1 = input(\"Enter the set1 values seprated by comas\")\n",
    "set2 = input(\"Enter the set2 values seprated by comas\")\n",
    "\n",
    "set1 = set(set1.split(\",\"))\n",
    "set2 = set(set2.split(\",\"))\n",
    "\n",
    "print(set1 | set2)"
   ]
  },
  {
   "cell_type": "code",
   "execution_count": null,
   "id": "d7436b59-2cca-4573-b452-3b359fb7a8f0",
   "metadata": {},
   "outputs": [],
   "source": []
  },
  {
   "cell_type": "code",
   "execution_count": 27,
   "id": "c06b27bb-edc3-4f43-bcf1-95dd601d1614",
   "metadata": {},
   "outputs": [
    {
     "name": "stdout",
     "output_type": "stream",
     "text": [
      "Maximum: 10\n",
      "Minimum: 0\n"
     ]
    }
   ],
   "source": [
    "# 27. Develop a code that takes a tuple of integers as input. The function should return the maximum and minimum values from the tuple using tuple unpacking?\n",
    "\n",
    "def find_max_min(numbers):\n",
    "    \"\"\"Finds the maximum and minimum values in a tuple.\n",
    "\n",
    "    Args:\n",
    "        numbers: A tuple of integers.\n",
    "\n",
    "    Returns:\n",
    "        A tuple containing the maximum and minimum values.\n",
    "    \"\"\"\n",
    "\n",
    "    max_value = max(numbers)\n",
    "    min_value = min(numbers)\n",
    "    return max_value, min_value\n",
    "\n",
    "my_tuple = (10, 3, 8, 5, 0, 3, 7, 6, 5, 1)\n",
    "max_num, min_num = find_max_min(my_tuple)\n",
    "print(\"Maximum:\", max_num)\n",
    "print(\"Minimum:\", min_num)\n"
   ]
  },
  {
   "cell_type": "code",
   "execution_count": null,
   "id": "4ffc80e9-cf74-42ac-9fca-7df242ac0235",
   "metadata": {},
   "outputs": [],
   "source": []
  },
  {
   "cell_type": "code",
   "execution_count": 28,
   "id": "77afc2ed-d27f-4c65-a297-bdbf32d5867e",
   "metadata": {},
   "outputs": [
    {
     "name": "stdin",
     "output_type": "stream",
     "text": [
      "Enter the set1 values seprated by comas 1,2,3,4,5,6\n",
      "Enter the set2 values seprated by comas 4,5,6,7,9,0,2,5\n"
     ]
    },
    {
     "name": "stdout",
     "output_type": "stream",
     "text": [
      "{'1', '3', '0', '5', '4', '2', '7', '9', '6'}\n",
      "{'6', '4', '2', '5'}\n",
      "{'0', '1', '3', '7', '9'}\n"
     ]
    }
   ],
   "source": [
    "# 28. Create a code that defines two sets of integers. Then, print the union, intersection, and difference of these two sets?\n",
    "\n",
    "set1 = input(\"Enter the set1 values seprated by comas\")\n",
    "set2 = input(\"Enter the set2 values seprated by comas\")\n",
    "\n",
    "set1 = set(set1.split(\",\"))\n",
    "set2 = set(set2.split(\",\"))\n",
    "print(set1 | set2)\n",
    "print(set1 & set2)\n",
    "print(set1 ^ set2)"
   ]
  },
  {
   "cell_type": "code",
   "execution_count": null,
   "id": "b37d9dfc-415c-4789-ade5-4676e2bbded1",
   "metadata": {},
   "outputs": [],
   "source": []
  },
  {
   "cell_type": "code",
   "execution_count": 29,
   "id": "4741bbd3-18dc-4d2d-8e07-ef3834a4ee63",
   "metadata": {},
   "outputs": [
    {
     "name": "stdin",
     "output_type": "stream",
     "text": [
      "Enter the size of the tuple: 7\n",
      "Enter the element: 2\n",
      "Enter the element: 2\n",
      "Enter the element: 4\n",
      "Enter the element: 3\n",
      "Enter the element: 2\n",
      "Enter the element: 7\n",
      "Enter the element: 2\n",
      "Enter the value you want to Search 2\n"
     ]
    },
    {
     "name": "stdout",
     "output_type": "stream",
     "text": [
      "2 is 4 times present in this Tuple\n"
     ]
    }
   ],
   "source": [
    "# 29. Write a code that takes a tuple and an element as input. The function should return the count of occurrences of the given element in the tuple?\n",
    "\n",
    "l = []\n",
    "n = int(input(\"Enter the size of the tuple:\"))\n",
    "for i in range(n):\n",
    "    ele = int(input(\"Enter the element:\"))\n",
    "    l.append(ele)\n",
    "tuple_data = tuple(l)\n",
    "search_value = int(input(\"Enter the value you want to Search\"))\n",
    "\n",
    "count_ele = lambda tuple_data, search_value: list(tuple_data).count(search_value) if search_value in tuple_data else \"Not present\"\n",
    "count_value = count_ele(tuple_data, search_value)\n",
    "\n",
    "if count_value == \"Not present\":\n",
    "    print(\"The value is not present in this Tuple\")\n",
    "else:\n",
    "    print(f\"{search_value} is {count_value} times present in this Tuple\")"
   ]
  },
  {
   "cell_type": "code",
   "execution_count": null,
   "id": "bd7b045c-90ad-4f52-aa2e-685aad548dde",
   "metadata": {},
   "outputs": [],
   "source": []
  },
  {
   "cell_type": "code",
   "execution_count": 30,
   "id": "1802134f-c19e-4742-9acb-8bcc5ecdbe7c",
   "metadata": {},
   "outputs": [
    {
     "name": "stdin",
     "output_type": "stream",
     "text": [
      "Enter the size of the first set: 5\n",
      "Enter the elements you want yo enter a\n",
      "Enter the elements you want yo enter b\n",
      "Enter the elements you want yo enter c\n",
      "Enter the elements you want yo enter d\n",
      "Enter the elements you want yo enter e\n",
      "Enter the size of the second set: 6\n",
      "Enter the elements you want yo enter p\n",
      "Enter the elements you want yo enter q\n",
      "Enter the elements you want yo enter z\n",
      "Enter the elements you want yo enter t\n",
      "Enter the elements you want yo enter u\n",
      "Enter the elements you want yo enter a\n"
     ]
    },
    {
     "name": "stdout",
     "output_type": "stream",
     "text": [
      "{'b', 't', 'd', 'c', 'z', 'e', 'q', 'p', 'u'}\n"
     ]
    }
   ],
   "source": [
    "# 30. Develop a code that prompts the user to input two sets of strings. Then, print the symmetric difference of these two sets?\n",
    "\n",
    "l1 = []\n",
    "l2 = []\n",
    "n1 = int(input(\"Enter the size of the first set:\"))\n",
    "for i in range(n1):\n",
    "    ele = input(\"Enter the elements you want yo enter\")\n",
    "    l1.append(ele)\n",
    "    \n",
    "n2 = int(input(\"Enter the size of the second set:\"))\n",
    "for i in range(n2):\n",
    "    ele = input(\"Enter the elements you want yo enter\")\n",
    "    l2.append(ele)\n",
    "set1 = set(l1)\n",
    "set2 = set(l2)\n",
    "print(set1 ^ set2)"
   ]
  },
  {
   "cell_type": "code",
   "execution_count": null,
   "id": "85636395-8124-4c88-8d1a-0e24f3cd5c45",
   "metadata": {},
   "outputs": [],
   "source": []
  },
  {
   "cell_type": "code",
   "execution_count": 31,
   "id": "13e03382-1cf1-4fa7-a616-762c39422a9e",
   "metadata": {},
   "outputs": [
    {
     "name": "stdin",
     "output_type": "stream",
     "text": [
      "Enter the size of the list 9\n",
      "Enter the element you want to enter: a\n",
      "Enter the element you want to enter: y\n",
      "Enter the element you want to enter: b\n",
      "Enter the element you want to enter: a\n",
      "Enter the element you want to enter: c\n",
      "Enter the element you want to enter: b\n",
      "Enter the element you want to enter: r\n",
      "Enter the element you want to enter: q\n",
      "Enter the element you want to enter: r\n"
     ]
    },
    {
     "data": {
      "text/plain": [
       "{'a': 2, 'b': 2, 'q': 1, 'y': 1, 'c': 1, 'r': 2}"
      ]
     },
     "execution_count": 31,
     "metadata": {},
     "output_type": "execute_result"
    }
   ],
   "source": [
    "# 31. Write a code that takes a list of words as input and returns a dictionary where the keys are unique words and the values are the frequencies of those words in the input list?\n",
    "\n",
    "l = []\n",
    "n = int(input(\"Enter the size of the list\"))\n",
    "for i in range(n):\n",
    "    ele = input(\"Enter the element you want to enter:\")\n",
    "    l.append(ele)\n",
    "\n",
    "unique_list = list(set(l))\n",
    "d = {}\n",
    "for i in range(len(unique_list)):\n",
    "    c = 0\n",
    "    for j in range(len(l)):\n",
    "        if unique_list[i] == l[j]:\n",
    "            c += 1\n",
    "    d[unique_list[i]] = c\n",
    "d"
   ]
  },
  {
   "cell_type": "code",
   "execution_count": null,
   "id": "7d69ce9a-fcca-47ac-a55b-fa2fd6236d0c",
   "metadata": {},
   "outputs": [],
   "source": []
  },
  {
   "cell_type": "code",
   "execution_count": 32,
   "id": "cbe9e413-2577-4a9f-8496-11ee432a0776",
   "metadata": {},
   "outputs": [
    {
     "name": "stdin",
     "output_type": "stream",
     "text": [
      "Enter the size of First dictionary: 3\n",
      "Enter the key: a\n",
      "Enter the value 6\n",
      "Enter the key: b\n",
      "Enter the value 4\n",
      "Enter the key: c\n",
      "Enter the value 10\n",
      "Enter the size of Second dictionary: 4\n",
      "Enter the key: p\n",
      "Enter the value 3\n",
      "Enter the key: a\n",
      "Enter the value 4\n",
      "Enter the key: b\n",
      "Enter the value 10\n",
      "Enter the key: q\n",
      "Enter the value 3\n"
     ]
    },
    {
     "data": {
      "text/plain": [
       "{'a': 10, 'b': 14, 'c': 10, 'p': 3, 'q': 3}"
      ]
     },
     "execution_count": 32,
     "metadata": {},
     "output_type": "execute_result"
    }
   ],
   "source": [
    "# 32. Write a code that takes two dictionaries as input and merges them into a single dictionary. If there are common keys, the values should be added together?\n",
    "\n",
    "d1 = {}\n",
    "n1 = int(input(\"Enter the size of First dictionary:\"))\n",
    "for i in range(n1):\n",
    "    k = input(\"Enter the key:\")\n",
    "    v = int(input(\"Enter the value\"))\n",
    "    d1[k] = v\n",
    "\n",
    "d2 = {}\n",
    "n2 = int(input(\"Enter the size of Second dictionary:\"))\n",
    "for i in range(n2):\n",
    "    k = input(\"Enter the key:\")\n",
    "    v = int(input(\"Enter the value\"))\n",
    "    d2[k] = v\n",
    "\n",
    "for i in d2:\n",
    "    if i in list(d1.keys()):\n",
    "        for j in d1:\n",
    "            if i==j:\n",
    "                d1[j] += d2[i]\n",
    "    elif i not in list(d1.keys()):\n",
    "        d1[i] = d2[i]\n",
    "\n",
    "d1"
   ]
  },
  {
   "cell_type": "code",
   "execution_count": null,
   "id": "142845d4-08ed-4f27-8fe5-52ba26a2e417",
   "metadata": {},
   "outputs": [],
   "source": []
  },
  {
   "cell_type": "code",
   "execution_count": 33,
   "id": "2d4ae1a4-4343-421d-b301-f8fdea049c83",
   "metadata": {},
   "outputs": [
    {
     "name": "stdout",
     "output_type": "stream",
     "text": [
      "The value present in the nested dictionary is 10\n"
     ]
    }
   ],
   "source": [
    "# 33. Write a code to access a value in a nested dictionary. The function should take the dictionary and a list of keys as input, and return the corresponding value. If any of the keys do not exist in the dictionary, the function should return None?\n",
    "\n",
    "def access_nested_value(dictionary, keys):\n",
    "    \"\"\"Accesses a value in a nested dictionary.\n",
    "\n",
    "    Args:\n",
    "        dictionary: The nested dictionary.\n",
    "        keys: A list of keys to access the value.\n",
    "\n",
    "    Returns:\n",
    "        The corresponding value, or None if any key is not found.\n",
    "    \"\"\"\n",
    "    d = dictionary              # I assign dictionary to another variable because we have to overwrite it again and again upto the value which we want to show\n",
    "    for i in keys:\n",
    "        if i not in d:\n",
    "            return None      # it returns none if key not found\n",
    "        d = d[i]                  # overwrite it again and again\n",
    "    return d\n",
    "\n",
    "\n",
    "my_dict = {'a': {'b': {'c': 10}}}\n",
    "keys = ['a', 'b', 'c']\n",
    "value = access_nested_value(my_dict, keys)\n",
    "print(f\"The value present in the nested dictionary is {value}\") \n"
   ]
  },
  {
   "cell_type": "code",
   "execution_count": null,
   "id": "8aad168f-2bbb-4f24-a0b9-9a24f4da0cf0",
   "metadata": {},
   "outputs": [],
   "source": []
  },
  {
   "cell_type": "code",
   "execution_count": 34,
   "id": "203de461-978a-4753-9d3e-eb09112892f9",
   "metadata": {},
   "outputs": [
    {
     "name": "stdin",
     "output_type": "stream",
     "text": [
      "Enter the size of the dictionary 5\n",
      "Enter the key: a\n",
      "Enter the value: 7\n",
      "Enter the key: b\n",
      "Enter the value: 2\n",
      "Enter the key: c\n",
      "Enter the value: 10\n",
      "Enter the key: d\n",
      "Enter the value: 6\n",
      "Enter the key: e\n",
      "Enter the value: 1\n"
     ]
    },
    {
     "name": "stdout",
     "output_type": "stream",
     "text": [
      "{'a': 7, 'b': 2, 'c': 10, 'd': 6, 'e': 1}\n",
      "{'a': 7, 'b': 2, 'c': 10, 'd': 6, 'e': 1}\n",
      "\n",
      "{'e': 1, 'b': 2, 'd': 6, 'a': 7, 'c': 10}\n"
     ]
    }
   ],
   "source": [
    "# 34. Write a code that takes a dictionary as input and returns a sorted version of it based on the values. You can choose whether to sort in ascending or descending order?\n",
    "\n",
    "d = {}\n",
    "n = int(input(\"Enter the size of the dictionary\"))\n",
    "for i in range(n):\n",
    "    k = input(\"Enter the key:\")\n",
    "    v = int(input(\"Enter the value:\"))\n",
    "    d[k] = v\n",
    "print(d)                                            # {'a': 7, 'b': 2, 'c': 10, 'd': 6, 'e': 1}\n",
    "\n",
    "print(f\"{d}\\n\")\n",
    "d1 = {}\n",
    "value_list = list(d.values())            # take the values from the dictionary into a list and sort them.\n",
    "value_list.sort()                            # this is in ascending order.\n",
    "\n",
    "for i in value_list:\n",
    "    for j in d:\n",
    "        if d[j] == i:                      # check list value is where in the  dictionary value. \n",
    "            d1[j] = d[j]                    # merge that key with value into a new dictionary.\n",
    "print(d1)\n"
   ]
  },
  {
   "cell_type": "code",
   "execution_count": null,
   "id": "28dfc8bf-e267-45e1-befc-18130004d3d0",
   "metadata": {},
   "outputs": [],
   "source": []
  },
  {
   "cell_type": "code",
   "execution_count": 35,
   "id": "976e50a2-7a1d-42b4-9ded-125fa0201a2d",
   "metadata": {},
   "outputs": [
    {
     "data": {
      "text/plain": [
       "{1: ['a', 'c'], 2: ['b']}"
      ]
     },
     "execution_count": 35,
     "metadata": {},
     "output_type": "execute_result"
    }
   ],
   "source": [
    "# 35. Write a code that inverts a dictionary, swapping keys and values. Ensure that the inverted dictionary correctly handles cases where multiple keys have the same value by storing the keys as a list in the inverted dictionary?\n",
    "\n",
    "d = {\"a\":1, \"b\":2, \"c\":1}\n",
    "d1 = {}\n",
    "for k,v in d.items():\n",
    "    if v in d1:\n",
    "        d1[v].append(k)        # this add on the value in the list in value already exist after shifting to key.\n",
    "    else:                           # else execute first if execute after thet if same key found in the dictionary thin that will append in the list created in the else block.\n",
    "        d1[v] = [k]      # [k] make it a list inside this dictionary.\n",
    "d1"
   ]
  },
  {
   "cell_type": "code",
   "execution_count": null,
   "id": "fcfc1ee3-b820-40c9-894b-57636997ed52",
   "metadata": {},
   "outputs": [],
   "source": []
  }
 ],
 "metadata": {
  "kernelspec": {
   "display_name": "Python 3 (ipykernel)",
   "language": "python",
   "name": "python3"
  },
  "language_info": {
   "codemirror_mode": {
    "name": "ipython",
    "version": 3
   },
   "file_extension": ".py",
   "mimetype": "text/x-python",
   "name": "python",
   "nbconvert_exporter": "python",
   "pygments_lexer": "ipython3",
   "version": "3.10.8"
  }
 },
 "nbformat": 4,
 "nbformat_minor": 5
}
